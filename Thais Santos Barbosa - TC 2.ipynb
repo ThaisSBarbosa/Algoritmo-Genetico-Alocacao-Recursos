{
 "cells": [
  {
   "cell_type": "markdown",
   "id": "e39d9dd2-dfc9-4819-8cc9-29652b64674b",
   "metadata": {},
   "source": [
    "### Thais Santos Barbosa - Tech Challenge Fase 2 - RM 357883"
   ]
  },
  {
   "attachments": {},
   "cell_type": "markdown",
   "id": "751bd7d5-5a53-4dca-aefc-189c550782ad",
   "metadata": {},
   "source": [
    "## Criando um Roteiro de Viagem\n",
    "\n",
    "O problema de otimização escolhido foi maximizar a satisfação de um turista ao visitar determinadas atrações turísticas da cidade de São Paulo, respeitando um limite de tempo. Cada atração turística possui tempo de duração da visita e nível de interesse distintos.\n",
    "\n",
    "Este problema envolve a alocação de recursos para visitar as atrações mais interessantes possíveis para o turista dentro do tempo máximo disponível para visitar atrações.\n",
    "\n",
    "### Definição do Problema\n",
    "\n",
    "- **Objetivo:** Maximizar a satisfação do turista.\n",
    "- **Restrições:** O tempo total das visitas não pode exceder o tempo disponível.\n",
    "- **Critérios de Sucesso:** Maximizar a satisfação do turista, garantindo que o tempo total das visitas não exceda o limite.\n",
    "- **Recursos:**\n",
    "  - **Tempo:** Cada turista possui um tempo máximo disponível para visitar as atrações.\n",
    "  - **Atrações Turísticas:** Cada atração tem um tempo de visita e um nível de interesse associado.\n",
    "\n",
    "O problema descrito é semelhante ao clássico problema da mochila, uma vez que o turista precisa selecionar as atrações (itens) de modo a maximizar sua satisfação (valor), sem ultrapassar o tempo disponível (capacidade da mochila)."
   ]
  },
  {
   "cell_type": "markdown",
   "id": "55df8fc2-56fa-4cc7-a81b-8814117d043a",
   "metadata": {},
   "source": [
    "A seguir, definimos os dados das atrações disponíveis para visita, onde cada tupla é organizada na ordem: atração, tempo, interesse.\n",
    "Além disso, é definido o tempo máximo disponível para visitas."
   ]
  },
  {
   "cell_type": "code",
   "execution_count": 127,
   "id": "3f1eaafd-eca3-4551-a220-491b28e0c740",
   "metadata": {},
   "outputs": [],
   "source": [
    "ATRACOES = [\n",
    "    (\"Avenida Paulista\", 2, 8),\n",
    "    (\"Parque do Ibirapuera\", 3, 9),\n",
    "    (\"Museu de Arte de São Paulo (MASP)\", 2, 10),\n",
    "    (\"Mercadão de São Paulo\", 1.5, 7),\n",
    "    (\"Pinacoteca do Estado\", 2, 9),\n",
    "    (\"Teatro Municipal\", 1.5, 8),\n",
    "    (\"Estádio do Pacaembu\", 2, 6),\n",
    "    (\"Beco do Batman\", 1, 7),\n",
    "    (\"Jardim Botânico\", 2, 8),\n",
    "    (\"Museu do Futebol\", 2, 9)\n",
    "]\n",
    "TEMPO_DISPONIVEL = 10"
   ]
  },
  {
   "cell_type": "markdown",
   "id": "ed43a33a-a414-493f-83c4-d3c6f8974a1a",
   "metadata": {},
   "source": [
    "Através da função **criar_individuo**, cada indivíduo será gerado como um vetor em que o número de elementos será igual ao número de atrações disponíveis.\n",
    "\n",
    "A codificação utilizada foi a **codificação binária**. Sendo assim, cada elemento do vetor representa um gene e cada gene será 0 ou 1, dependendo de uma escolha aleatória. Se o gene for igual a 0, significa que a atração localizada no mesmo índice do vetor ATRACOES não foi escolhida para visita; se for igual a 1, significa que a atração foi escolhida.\n",
    "\n",
    "A função seguinte, **criar_populacao**, utiliza a função criar_individuo para criar um determinado número de indivíduos e **inicializar a população de maneira aleatória**."
   ]
  },
  {
   "cell_type": "code",
   "execution_count": 128,
   "id": "4bf11071-05f7-4ece-9cb4-f374972f018d",
   "metadata": {},
   "outputs": [],
   "source": [
    "import random\n",
    "\n",
    "def criar_individuo():\n",
    "    return [random.randint(0, 1) for _ in range(len(ATRACOES))]\n",
    "\n",
    "def criar_populacao(tamanho):\n",
    "    return [criar_individuo() for _ in range(tamanho)]"
   ]
  },
  {
   "cell_type": "markdown",
   "id": "915d7f68-b401-4808-8230-07c0d75f8dc3",
   "metadata": {},
   "source": [
    "A função **calcula_fitness_individuo** recebe um indivíduo da população e calcula o seu fitness. \n",
    "\n",
    "O fitness, aqui, é calculado com base no nível de interesse de cada atração. Portanto, o fitness de cada indivíduo será a soma dos níveis de interesse das atrações selecionadas para visita.\n",
    "\n",
    "Os indivíduos cuja soma do tempo total de visita de cada atração escolhida ultrapassar o tempo disponível serão penalizados e retornarão fitness igual a 0, de modo a respeitar a restrição do tempo máximo disponível."
   ]
  },
  {
   "cell_type": "code",
   "execution_count": 129,
   "id": "3645b3bd-69b3-4c88-bd98-60a06fd4ab79",
   "metadata": {},
   "outputs": [],
   "source": [
    "def calcula_fitness_individuo(individuo):\n",
    "    total_tempo = 0\n",
    "    total_interesse = 0\n",
    "\n",
    "    for gene, atracao in zip(individuo, ATRACOES):\n",
    "        if gene == 1:\n",
    "            total_tempo += atracao[1]\n",
    "            total_interesse += atracao[2]\n",
    "\n",
    "    #print(total_tempo, \"|\", total_interesse)\n",
    "    if total_tempo > TEMPO_DISPONIVEL:\n",
    "        return 0\n",
    "\n",
    "    return total_interesse"
   ]
  },
  {
   "cell_type": "markdown",
   "id": "e635cc66-3785-4ba5-a645-830433640195",
   "metadata": {},
   "source": [
    "A função a seguir, **selecao_torneio_maior_fitness**, seleciona aleatoriamente um determinado número de indivíduos da população, ordena e retorna aquele que possuir maior fitness."
   ]
  },
  {
   "cell_type": "code",
   "execution_count": 130,
   "id": "6902c240-8d33-4a75-b941-48bd2d6e8a86",
   "metadata": {},
   "outputs": [],
   "source": [
    "def selecao_torneio_maior_fitness(populacao_tor, tamanho_torneio):\n",
    "    torneio = random.sample(populacao_tor, tamanho_torneio)\n",
    "    torneio.sort(key=calcula_fitness_individuo, reverse=True)\n",
    "    return torneio[0]"
   ]
  },
  {
   "cell_type": "markdown",
   "id": "346545d7-8d8e-40b8-8780-06d8e219ea17",
   "metadata": {},
   "source": [
    "A função **cruzamento** recebe dois indivíduos pais e retorna dois indivíduos filhos. \n",
    "\n",
    "A **técnica de cruzamento utilizada foi a Two-Point Crossover**, em que dois pontos de cruzamento, são selecionados aleatoriamente dentro do comprimento dos pais, sendo possível dividir o indivíduo em três partes. A seguir, a parte do meio de um pai é substituída pela parte central do outro pai, combinando, assim, características de ambos os indivíduos.\n",
    "\n",
    "A próxima função, **mutacao**, inverte ou não cada gene do indivíduo de acordo com a probabilidade descrita pela taxa de mutação."
   ]
  },
  {
   "cell_type": "code",
   "execution_count": 131,
   "id": "ea80f491-405a-456b-80a0-1a5b39814133",
   "metadata": {},
   "outputs": [],
   "source": [
    "def cruzamento(pai1, pai2):\n",
    "    ponto1 = random.randint(0, round(len(pai1) / 2))\n",
    "    ponto2 = random.randint(ponto1 + 1, len(pai1))\n",
    "    \n",
    "    filho1 = pai1[:ponto1] + pai2[ponto1:ponto2] + pai1[ponto2:]\n",
    "    filho2 = pai2[:ponto1] + pai1[ponto1:ponto2] + pai2[ponto2:]\n",
    "    \n",
    "    return filho1, filho2\n",
    "\n",
    "def mutacao(individuo, taxa_mutacao):\n",
    "    for i in range(len(individuo)):\n",
    "        if random.random() < taxa_mutacao:\n",
    "            individuo[i] = 1 - individuo[i]"
   ]
  },
  {
   "cell_type": "markdown",
   "id": "8d5bb299-1ba8-4476-b902-68b222f42f38",
   "metadata": {},
   "source": [
    "Para implementação do algoritmo genético, algumas variáveis serão inicializadas com valores fixos, sendo elas:\n",
    "- **Número de gerações/populações**;\n",
    "- **Quantidade de indivíduos por geração/população**;\n",
    "- **Taxa de cruzamento** => define se haverá cruzamento para gerar dois novos indivíduos a partir de dois indivíduos pais ou se serão mantidos os indivíduos pais;\n",
    "- **Taxa de mutação** => define em qual proporção um indivíduo poderá sofrer mutação;\n",
    "- **Tamanho do torneio** => define qual número de indivíduos será escolhido aleatoriamente dentre a população para sofrer seleção natural pelo maior fitness;\n",
    "- **Elitismo** => define quantos dos melhores indivíduos, sendo aqueles que possuem maior fitness, serão mantidos na nova geração/população. Se for igual a zero, o melhor indivíduo não será preservado.\n",
    "- **Quantidade de gerações para conversão ao melhor fitness** => define quantos rodadas sem mudança do resultado de melhor fitness são necessárias para afirmar que o algoritmo já convergiu para a solução subótima.\n",
    "\n",
    "Os valores destas variáveis foram escolhidos conforme desempenho nos testes realizados. Portanto, os valores apresentados acima são aqueles que resultaram numa melhor convergência do algoritmo à uma solução subótima aceitável."
   ]
  },
  {
   "cell_type": "code",
   "execution_count": 132,
   "id": "9fbb8c58-425b-45e0-8deb-cfccb3f43506",
   "metadata": {
    "scrolled": true
   },
   "outputs": [],
   "source": [
    "n_geracoes = 20\n",
    "tamanho_populacao = 20\n",
    "taxa_cruzamento = 0.9\n",
    "taxa_mutacao = 0.8\n",
    "tamanho_torneio = 2\n",
    "elitismo = 0\n",
    "qtd_geracoes_melhor_fitness = 4"
   ]
  },
  {
   "cell_type": "markdown",
   "id": "67f71620-c21c-4e38-8ff4-9d02473710cf",
   "metadata": {},
   "source": [
    "### Implementação do Algoritmo Genético\n",
    "\n",
    "A seguir, o algoritmo genético, que utilizará todas as funções descritas acima é implementado. \n",
    "\n",
    "#### 1 - População Inicial\n",
    "Primeiramente, são inicializados de forma aleatória todos os indivíduos que formarão a primeira população. \n",
    "\n",
    "#### 2 - Formação de Novas Gerações\n",
    "Em seguida, ocorre a criação de cada geração. \n",
    "\n",
    "##### 2.1 - Elitismo\n",
    "Ocorre quando cada uma das gerações é inicializada com o indivíduo de melhor fitness da geração anterior. \n",
    "\n",
    "##### 2.2 - Cruzamento\n",
    "Os demais indivíduos desta geração são criados a partir do cruzamento de diferentes pares de indivíduos pais da população anterior, sendo que alguns destes indíviduos podem ser mantidos na nova geração, dada a taxa de cruzamento.\n",
    "\n",
    "##### 2.3 - Seleção Natural\n",
    "Os indivíduos pais escolhidos para realizar o cruzamento, são aqueles de melhor fitness, selecionados, utilizando a técnica de torneio, dentre grupos de três indivíduos da geração anterior, formados aleatoriamente.\n",
    "\n",
    "##### 2.4 - Mutação\n",
    "Então, os dois indivíduos filhos gerados sofrem mutação, pela técnica de bit-flip. Ou seja, na proporção dada pela taxa de mutação, cada indivíduo sofrerá a inversão dos valores de um ou mais de seus bits, selecionados aleatoriamente.\n",
    "\n",
    "Após a mutação, os indivíduos filhos passam a compor a nova geração e novos filhos são gerados até que cada geração alcance seu tamanho máximo.\n",
    "\n",
    "#### 3 - Convergência para Solução Subótima\n",
    "O processo é repetido até a formação da última geração, cujo indivíduo de melhor fitness será a solução subótima, que representa uma aceitável alocação de recursos para visitar as atrações mais interessantes possíveis para o turista dentro do tempo máximo disponível para visita."
   ]
  },
  {
   "cell_type": "code",
   "execution_count": 133,
   "id": "4252c282-a59e-46ad-8d4a-5e58df3bc748",
   "metadata": {},
   "outputs": [
    {
     "name": "stdout",
     "output_type": "stream",
     "text": [
      "Fitness dos indivíduos da geração 0 = [32, 23, 41, 33, 25, 32, 30, 34, 25, 33, 39, 33, 26, 39, 34, 0, 23, 0, 33, 32]\n",
      "Melhor fitness desta geração = 41\n",
      "\n",
      "Fitness dos indivíduos da geração 1 = [0, 24, 32, 39, 40, 25, 24, 0, 15, 0, 47, 33, 41, 30, 38, 34, 40, 25, 32, 33]\n",
      "Melhor fitness desta geração = 47\n",
      "\n",
      "Fitness dos indivíduos da geração 2 = [41, 39, 0, 16, 32, 0, 30, 41, 15, 40, 32, 41, 38, 33, 25, 42, 0, 32, 0, 38]\n",
      "Melhor fitness desta geração = 42\n",
      "\n",
      "Fitness dos indivíduos da geração 3 = [39, 40, 32, 39, 25, 0, 41, 38, 0, 23, 42, 24, 23, 33, 40, 39, 30, 47, 15, 47]\n",
      "Melhor fitness desta geração = 47\n",
      "\n",
      "Fitness dos indivíduos da geração 4 = [40, 40, 42, 38, 34, 47, 30, 26, 33, 41, 39, 31, 30, 49, 41, 24, 47, 47, 40, 47]\n",
      "Melhor fitness desta geração = 49\n",
      "\n",
      "Fitness dos indivíduos da geração 5 = [47, 40, 30, 40, 40, 33, 47, 47, 40, 40, 0, 15, 0, 39, 40, 0, 38, 0, 48, 26]\n",
      "Melhor fitness desta geração = 48\n",
      "\n",
      "Fitness dos indivíduos da geração 6 = [31, 23, 0, 31, 47, 40, 47, 38, 0, 47, 33, 47, 47, 33, 40, 47, 30, 0, 39, 31]\n",
      "Melhor fitness desta geração = 47\n",
      "\n",
      "Fitness dos indivíduos da geração 7 = [47, 47, 47, 40, 31, 38, 41, 31, 47, 39, 47, 47, 0, 47, 30, 40, 31, 47, 47, 47]\n",
      "Melhor fitness desta geração = 47\n",
      "\n",
      "Fitness dos indivíduos da geração 8 = [47, 47, 47, 47, 41, 47, 47, 47, 47, 47, 47, 47, 47, 47, 38, 47, 47, 47, 47, 47]\n",
      "Melhor fitness desta geração = 47\n",
      "\n",
      "Fitness dos indivíduos da geração 9 = [47, 47, 47, 47, 47, 47, 47, 47, 47, 47, 47, 47, 47, 47, 47, 47, 47, 47, 47, 47]\n",
      "Melhor fitness desta geração = 47\n",
      "\n",
      "Fitness dos indivíduos da geração 10 = [47, 47, 47, 47, 47, 47, 47, 47, 47, 47, 47, 47, 47, 47, 47, 47, 47, 47, 47, 47]\n",
      "Melhor fitness desta geração = 47\n",
      "\n",
      "Fitness dos indivíduos da geração 11 = [47, 47, 47, 47, 47, 47, 47, 47, 47, 47, 47, 47, 47, 47, 47, 47, 47, 47, 47, 47]\n",
      "Melhor fitness desta geração = 47\n",
      "\n",
      "Fitness dos indivíduos da geração 12 = [47, 47, 47, 47, 47, 47, 47, 47, 47, 47, 47, 47, 47, 47, 47, 47, 47, 47, 47, 47]\n",
      "Melhor fitness desta geração = 47\n",
      "\n",
      "Fitness dos indivíduos da geração 13 = [47, 47, 47, 47, 47, 47, 47, 47, 47, 47, 47, 47, 47, 47, 47, 47, 47, 47, 47, 47]\n",
      "Melhor fitness desta geração = 47\n",
      "\n",
      "Fitness dos indivíduos da geração 14 = [47, 47, 47, 47, 47, 47, 47, 47, 47, 47, 47, 47, 47, 47, 47, 47, 47, 47, 47, 47]\n",
      "Melhor fitness desta geração = 47\n",
      "\n",
      "Fitness dos indivíduos da geração 15 = [47, 47, 47, 47, 47, 47, 47, 47, 47, 47, 47, 47, 47, 47, 47, 47, 47, 47, 47, 47]\n",
      "Melhor fitness desta geração = 47\n",
      "\n",
      "Fitness dos indivíduos da geração 16 = [47, 47, 47, 47, 47, 47, 47, 47, 47, 47, 47, 47, 47, 47, 47, 47, 47, 47, 47, 47]\n",
      "Melhor fitness desta geração = 47\n",
      "\n",
      "Fitness dos indivíduos da geração 17 = [47, 47, 47, 47, 47, 47, 47, 47, 47, 47, 47, 47, 47, 47, 47, 47, 47, 47, 47, 47]\n",
      "Melhor fitness desta geração = 47\n",
      "\n",
      "Fitness dos indivíduos da geração 18 = [47, 47, 47, 47, 47, 47, 47, 47, 47, 47, 47, 47, 47, 47, 47, 47, 47, 47, 47, 47]\n",
      "Melhor fitness desta geração = 47\n",
      "\n",
      "Fitness dos indivíduos da geração 19 = [47, 47, 47, 47, 47, 47, 47, 47, 47, 47, 47, 47, 47, 47, 47, 47, 47, 47, 47, 47]\n",
      "Melhor fitness desta geração = 47\n",
      "\n",
      "\n",
      "Algoritmo Genético\n",
      "Melhor indivíduo encontrado: [1, 0, 0, 1, 1, 1, 0, 1, 1, 0] - Fitness: 47\n",
      "Tempo gasto: 0.008234 segundos\n",
      "Convergiu na geração: 9\n"
     ]
    }
   ],
   "source": [
    "import time\n",
    "\n",
    "start_time = time.perf_counter()\n",
    "\n",
    "populacao = criar_populacao(tamanho_populacao)\n",
    "\n",
    "ja_informou_convergencia = False\n",
    "melhores_fitness_geracoes = []\n",
    "geracao_convergencia = -1\n",
    "for geracao in range(n_geracoes):\n",
    "    # Preserva os melhores indivíduos (elitismo)\n",
    "    populacao_ordenada = sorted(populacao, key=calcula_fitness_individuo, reverse=True)\n",
    "    melhor_ind_geracao = populacao_ordenada.copy()[:elitismo]\n",
    "    nova_populacao = []\n",
    "    \n",
    "    # Preenche o resto da população com cruzamento e mutação\n",
    "    while len(nova_populacao) < (tamanho_populacao - elitismo):\n",
    "        pai1 = selecao_torneio_maior_fitness(populacao, tamanho_torneio)\n",
    "        pai2 = selecao_torneio_maior_fitness(populacao, tamanho_torneio)\n",
    "        \n",
    "        if random.random() < taxa_cruzamento:\n",
    "            filho1, filho2 = cruzamento(pai1, pai2)\n",
    "        else:\n",
    "            filho1, filho2 = pai1, pai2\n",
    "        \n",
    "        mutacao(filho1.copy(), taxa_mutacao)\n",
    "        mutacao(filho2.copy(), taxa_mutacao)\n",
    "        \n",
    "        nova_populacao.append(filho1)\n",
    "        nova_populacao.append(filho2)\n",
    "\n",
    "    nova_populacao.extend(melhor_ind_geracao.copy())\n",
    "    \n",
    "    populacao = nova_populacao.copy()\n",
    "    nova_populacao = []\n",
    "\n",
    "    # Calcular fitness para cada indivíduo da nova população\n",
    "    fitness_populacao = [calcula_fitness_individuo(individuo) for individuo in populacao]\n",
    "    print(f\"Fitness dos indivíduos da geração {geracao} = {fitness_populacao}\")\n",
    "    \n",
    "    melhor_individuo = max(populacao, key=calcula_fitness_individuo)\n",
    "    melhor_fitness = calcula_fitness_individuo(melhor_individuo)\n",
    "    print(f\"Melhor fitness desta geração = {melhor_fitness}\\n\")\n",
    "    melhores_fitness_geracoes.append(melhor_fitness)\n",
    "    \n",
    "    if not ja_informou_convergencia:\n",
    "        convergiu_qtd_geracoes = True\n",
    "        if geracao >= qtd_geracoes_melhor_fitness:\n",
    "            for i in range(geracao, geracao - qtd_geracoes_melhor_fitness, -1):\n",
    "                if melhores_fitness_geracoes[geracao] != melhores_fitness_geracoes[i]:\n",
    "                    convergiu_qtd_geracoes = False\n",
    "                    break\n",
    "            if convergiu_qtd_geracoes and not ja_informou_convergencia:\n",
    "                geracao_convergencia = geracao\n",
    "                ja_informou_convergencia = True\n",
    "\n",
    "end_time = time.perf_counter()\n",
    "elapsed_time = end_time - start_time\n",
    "\n",
    "print(f\"\\nAlgoritmo Genético\")\n",
    "print(f\"Melhor indivíduo encontrado: {melhor_individuo} - Fitness: {melhor_fitness}\")\n",
    "print(f\"Tempo gasto: {elapsed_time:.6f} segundos\")\n",
    "print(f\"Convergiu na geração: {geracao_convergencia}\")"
   ]
  },
  {
   "cell_type": "markdown",
   "id": "cac2df7d",
   "metadata": {},
   "source": [
    "### Testes de Eficácia\n",
    "\n",
    "Com o fim de comprovar a eficácia do algoritmo genético implementado acima, os resultados obtidos serão comparados, a seguir, com os resultados de dois métodos convencionais para resolver problemas de alocação de recursos, tais quais o clássico problema da mochila e este, apresentado aqui, da elaboração de um roteiro de viagem.\n",
    "\n",
    "Os dois métodos convencionais escolhidos foram Algoritmo Guloso (Greedy) e Programação Dinâmica.\n",
    "\n",
    "#### Algoritmo Guloso (Greedy)\n",
    "\n",
    "Seleciona as atrações com maior valor (nível de interesse) até preencher o limite de tempo. Apesar de não garantir a solução ótima, suas principais vantagens são a velocidade de execução e o baixo uso de recursos computacionais.\n",
    "\n",
    "#### Programação Dinâmica\n",
    "\n",
    "Testa todas as combinações possíveis de atrações, respeitando a restrição de tempo. Este método garante a solução ótima, porém exige mais recursos computacionais e possui implementação mais complexa."
   ]
  },
  {
   "cell_type": "code",
   "execution_count": 134,
   "id": "9936a3fe",
   "metadata": {},
   "outputs": [
    {
     "name": "stdout",
     "output_type": "stream",
     "text": [
      "Algoritmo Greedy\n",
      "Melhor indivíduo encontrado: [0, 1, 1, 0, 1, 0, 0, 1, 0, 1] - Fitness: 44\n",
      "Tempo gasto: 0.000470 segundos\n"
     ]
    }
   ],
   "source": [
    "# Implementação do algoritmo greedy\n",
    "\n",
    "start_time = time.perf_counter()\n",
    "\n",
    "atracoes_para_filtrar_maior = ATRACOES.copy()\n",
    "\n",
    "individuo_gerado_algoritmo_greedy = [0 for _ in range(len(atracoes_para_filtrar_maior))]\n",
    "tempo_individuo_gerado_algoritmo_greedy = 0\n",
    "\n",
    "while tempo_individuo_gerado_algoritmo_greedy < TEMPO_DISPONIVEL:\n",
    "    par_maior_interesse = max(enumerate(atracoes_para_filtrar_maior), key=lambda x: x[1][2])\n",
    "    indice_maior_interesse = par_maior_interesse[0]\n",
    "    atracao_maior_interesse = par_maior_interesse[1]\n",
    "\n",
    "    if (tempo_individuo_gerado_algoritmo_greedy + atracao_maior_interesse[1]) <= TEMPO_DISPONIVEL: \n",
    "        individuo_gerado_algoritmo_greedy[indice_maior_interesse] = 1\n",
    "        tempo_individuo_gerado_algoritmo_greedy += atracao_maior_interesse[1]\n",
    "        \n",
    "    atracoes_para_filtrar_maior[indice_maior_interesse] = (\n",
    "        atracao_maior_interesse[0], \n",
    "        atracao_maior_interesse[1], \n",
    "        0  # Interesse agora é 0\n",
    "    )\n",
    "    \n",
    "end_time = time.perf_counter()\n",
    "elapsed_time = end_time - start_time\n",
    "\n",
    "print(f\"Algoritmo Greedy\")\n",
    "print(f\"Melhor indivíduo encontrado: {individuo_gerado_algoritmo_greedy} - Fitness: {calcula_fitness_individuo(individuo_gerado_algoritmo_greedy)}\")\n",
    "print(f\"Tempo gasto: {elapsed_time:.6f} segundos\")"
   ]
  },
  {
   "cell_type": "code",
   "execution_count": 135,
   "id": "1a761c7f-5f28-4828-a121-c943ee7f0e09",
   "metadata": {},
   "outputs": [
    {
     "name": "stdout",
     "output_type": "stream",
     "text": [
      "Algoritmo Programação Dinâmica\n",
      "Melhor indivíduo encontrado: (0, 0, 1, 1, 1, 1, 0, 1, 0, 1) - Fitness: 50\n",
      "Tempo gasto: 0.001342 segundos\n"
     ]
    }
   ],
   "source": [
    "# Implementação da programação dinâmica\n",
    "\n",
    "from itertools import product\n",
    "\n",
    "start_time = time.perf_counter()\n",
    "\n",
    "# Gera todas as combinações possíveis de vetores de 10 posições com 0 e 1\n",
    "todas_as_combinacoes_possiveis = list(product([0, 1], repeat=len(ATRACOES)))\n",
    "\n",
    "individuo_gerado_algoritmo_pd = max(todas_as_combinacoes_possiveis, key=calcula_fitness_individuo)\n",
    "melhor_fitness = calcula_fitness_individuo(individuo_gerado_algoritmo_pd)\n",
    "\n",
    "end_time = time.perf_counter()\n",
    "elapsed_time = end_time - start_time\n",
    "\n",
    "print(f\"Algoritmo Programação Dinâmica\")\n",
    "print(f\"Melhor indivíduo encontrado: {individuo_gerado_algoritmo_pd} - Fitness: {calcula_fitness_individuo(individuo_gerado_algoritmo_pd)}\")\n",
    "print(f\"Tempo gasto: {elapsed_time:.6f} segundos\")"
   ]
  },
  {
   "cell_type": "markdown",
   "id": "c77cbadf",
   "metadata": {},
   "source": [
    "### Análise dos Resultados\n",
    "\n",
    "Os resultados obtidos para o problema de maximização da satisfação do turista em visitas a atrações turísticas revelam um desempenho variável entre os algoritmos Genético, Greedy e Programação Dinâmica. Após sucessivas execuções, observa-se que o algortimo genético pode, ocasionalmente, encontrar soluções melhores do que as obtidas por métodos convencionais.\n",
    "\n",
    "#### Comparação de Desempenho\n",
    "\n",
    "##### Qualidade da Solução\n",
    "\n",
    "Neste aspecto, a Programação Dinâmica é a mais eficaz, uma vez que fornece a solução ótima para o problema. A natureza determinística deste algoritmo permite uma busca exaustiva, garantindo a melhor solução possível.\n",
    "O Algoritmo Greedy mostrou-se uma escolha rápida e eficiente, mas com a limitação de não considerar todas as combinações possíveis de atrações, o que pode resultar em soluções subótimas.\n",
    "O Algoritmo Genético, por sua vez, foi capaz de alcançar resultados iguais aos da programação dinâmica e soluções frequentemente melhores do que as oferecidas pelo Algoritmo Greedy.\n",
    "\n",
    "##### Tempo de Execução\n",
    "\n",
    "Em termos de tempo de execução, o Algoritmo Greedy foi o mais rápido, mostrando sua eficiência em encontrar soluções rapidamente, mas não necessariamente as melhores.\n",
    "A Programação Dinâmica apresenta, neste caso, tempos de execução competitivos para encontrar a solução ótima, o que é esperado para problemas de tamanho e complexidade moderados, como o aqui apresentado.\n",
    "O Algoritmo Genético frequentemente apresentou tempo de execução maior que os demais métodos devido à sua natureza de exploração e iterações múltiplas.\n",
    "\n",
    "#### Vantagens de Utilizar o Algoritmo Genético\n",
    "\n",
    "##### Variabilidade\n",
    "\n",
    "O Algoritmo Genético é projetado para explorar o espaço de soluções de maneira aleatória, o que significa que pode, em algumas execuções, encontrar combinações de atrações que superem as soluções fornecidas por métodos convencionais como o Greedy. Essa variabilidade pode ser vantajosa em certos contextos.\n",
    "\n",
    "##### Performance em Grande Escala\n",
    "\n",
    "Para problemas de otimização de alta dimensão ou com um espaço de busca complexo, os algoritmos genéticos podem ser mais eficazes do que abordagens exatas, já que estas últimas podem ser inviáveis devido à limitações computacionais. Assim, o Algoritmo Genético se destaca como uma alternativa quando a garantia da solução ideal se torna impraticável.\n",
    "\n",
    "#### Conclusão\n",
    "\n",
    "O Algoritmo Genético tem potencial para oferecer soluções melhores que métodos mais determinísticos em problemas mais complexos. A escolha entre esses algoritmos deve considerar fatores como a natureza do problema, os recursos computacionais disponíveis, o tempo disponível para a execução e a necessidade de garantia de uma solução ótima versus uma solução suficientemente boa e de rápida execução. "
   ]
  }
 ],
 "metadata": {
  "kernelspec": {
   "display_name": "Python 3",
   "language": "python",
   "name": "python3"
  },
  "language_info": {
   "codemirror_mode": {
    "name": "ipython",
    "version": 3
   },
   "file_extension": ".py",
   "mimetype": "text/x-python",
   "name": "python",
   "nbconvert_exporter": "python",
   "pygments_lexer": "ipython3",
   "version": "3.12.4"
  }
 },
 "nbformat": 4,
 "nbformat_minor": 5
}
